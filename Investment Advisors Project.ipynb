{
 "cells": [
  {
   "cell_type": "code",
   "execution_count": 43,
   "metadata": {},
   "outputs": [
    {
     "name": "stdout",
     "output_type": "stream",
     "text": [
      "Requirement already satisfied: pandas in c:\\users\\prashant\\anaconda3\\lib\\site-packages (1.4.2)\n",
      "Requirement already satisfied: python-dateutil>=2.8.1 in c:\\users\\prashant\\anaconda3\\lib\\site-packages (from pandas) (2.8.2)\n",
      "Requirement already satisfied: numpy>=1.18.5 in c:\\users\\prashant\\anaconda3\\lib\\site-packages (from pandas) (1.21.5)\n",
      "Requirement already satisfied: pytz>=2020.1 in c:\\users\\prashant\\anaconda3\\lib\\site-packages (from pandas) (2021.3)\n",
      "Requirement already satisfied: six>=1.5 in c:\\users\\prashant\\anaconda3\\lib\\site-packages (from python-dateutil>=2.8.1->pandas) (1.16.0)\n"
     ]
    }
   ],
   "source": [
    "!pip install pandas"
   ]
  },
  {
   "cell_type": "code",
   "execution_count": 44,
   "metadata": {},
   "outputs": [
    {
     "name": "stdout",
     "output_type": "stream",
     "text": [
      "Requirement already satisfied: numpy in c:\\users\\prashant\\anaconda3\\lib\\site-packages (1.21.5)\n"
     ]
    }
   ],
   "source": [
    "!pip install numpy"
   ]
  },
  {
   "cell_type": "code",
   "execution_count": 45,
   "metadata": {},
   "outputs": [
    {
     "name": "stdout",
     "output_type": "stream",
     "text": [
      "Requirement already satisfied: gspread in c:\\users\\prashant\\anaconda3\\lib\\site-packages (5.5.0)\n",
      "Requirement already satisfied: google-auth>=1.12.0 in c:\\users\\prashant\\anaconda3\\lib\\site-packages (from gspread) (1.33.0)\n",
      "Requirement already satisfied: google-auth-oauthlib>=0.4.1 in c:\\users\\prashant\\anaconda3\\lib\\site-packages (from gspread) (0.5.2)\n",
      "Requirement already satisfied: six>=1.9.0 in c:\\users\\prashant\\anaconda3\\lib\\site-packages (from google-auth>=1.12.0->gspread) (1.16.0)\n",
      "Requirement already satisfied: pyasn1-modules>=0.2.1 in c:\\users\\prashant\\anaconda3\\lib\\site-packages (from google-auth>=1.12.0->gspread) (0.2.8)\n",
      "Requirement already satisfied: setuptools>=40.3.0 in c:\\users\\prashant\\anaconda3\\lib\\site-packages (from google-auth>=1.12.0->gspread) (61.2.0)\n",
      "Requirement already satisfied: rsa<5,>=3.1.4 in c:\\users\\prashant\\anaconda3\\lib\\site-packages (from google-auth>=1.12.0->gspread) (4.7.2)\n",
      "Requirement already satisfied: cachetools<5.0,>=2.0.0 in c:\\users\\prashant\\anaconda3\\lib\\site-packages (from google-auth>=1.12.0->gspread) (4.2.2)\n",
      "Requirement already satisfied: requests-oauthlib>=0.7.0 in c:\\users\\prashant\\anaconda3\\lib\\site-packages (from google-auth-oauthlib>=0.4.1->gspread) (1.3.1)\n",
      "Requirement already satisfied: pyasn1<0.5.0,>=0.4.6 in c:\\users\\prashant\\anaconda3\\lib\\site-packages (from pyasn1-modules>=0.2.1->google-auth>=1.12.0->gspread) (0.4.8)\n",
      "Requirement already satisfied: requests>=2.0.0 in c:\\users\\prashant\\anaconda3\\lib\\site-packages (from requests-oauthlib>=0.7.0->google-auth-oauthlib>=0.4.1->gspread) (2.27.1)\n",
      "Requirement already satisfied: oauthlib>=3.0.0 in c:\\users\\prashant\\anaconda3\\lib\\site-packages (from requests-oauthlib>=0.7.0->google-auth-oauthlib>=0.4.1->gspread) (3.2.0)\n",
      "Requirement already satisfied: idna<4,>=2.5 in c:\\users\\prashant\\anaconda3\\lib\\site-packages (from requests>=2.0.0->requests-oauthlib>=0.7.0->google-auth-oauthlib>=0.4.1->gspread) (3.3)\n",
      "Requirement already satisfied: urllib3<1.27,>=1.21.1 in c:\\users\\prashant\\anaconda3\\lib\\site-packages (from requests>=2.0.0->requests-oauthlib>=0.7.0->google-auth-oauthlib>=0.4.1->gspread) (1.26.9)\n",
      "Requirement already satisfied: charset-normalizer~=2.0.0 in c:\\users\\prashant\\anaconda3\\lib\\site-packages (from requests>=2.0.0->requests-oauthlib>=0.7.0->google-auth-oauthlib>=0.4.1->gspread) (2.0.4)\n",
      "Requirement already satisfied: certifi>=2017.4.17 in c:\\users\\prashant\\anaconda3\\lib\\site-packages (from requests>=2.0.0->requests-oauthlib>=0.7.0->google-auth-oauthlib>=0.4.1->gspread) (2021.10.8)\n"
     ]
    }
   ],
   "source": [
    "!pip install gspread"
   ]
  },
  {
   "cell_type": "code",
   "execution_count": 46,
   "metadata": {},
   "outputs": [
    {
     "name": "stdout",
     "output_type": "stream",
     "text": [
      "Requirement already satisfied: oauth2client in c:\\users\\prashant\\anaconda3\\lib\\site-packages (4.1.3)\n",
      "Requirement already satisfied: pyasn1-modules>=0.0.5 in c:\\users\\prashant\\anaconda3\\lib\\site-packages (from oauth2client) (0.2.8)\n",
      "Requirement already satisfied: httplib2>=0.9.1 in c:\\users\\prashant\\anaconda3\\lib\\site-packages (from oauth2client) (0.20.4)\n",
      "Requirement already satisfied: rsa>=3.1.4 in c:\\users\\prashant\\anaconda3\\lib\\site-packages (from oauth2client) (4.7.2)\n",
      "Requirement already satisfied: six>=1.6.1 in c:\\users\\prashant\\anaconda3\\lib\\site-packages (from oauth2client) (1.16.0)\n",
      "Requirement already satisfied: pyasn1>=0.1.7 in c:\\users\\prashant\\anaconda3\\lib\\site-packages (from oauth2client) (0.4.8)\n",
      "Requirement already satisfied: pyparsing!=3.0.0,!=3.0.1,!=3.0.2,!=3.0.3,<4,>=2.4.2 in c:\\users\\prashant\\anaconda3\\lib\\site-packages (from httplib2>=0.9.1->oauth2client) (3.0.4)\n"
     ]
    }
   ],
   "source": [
    "!pip install oauth2client"
   ]
  },
  {
   "cell_type": "code",
   "execution_count": 47,
   "metadata": {
    "id": "vTofrIR0j_Vi"
   },
   "outputs": [],
   "source": [
    "import gspread"
   ]
  },
  {
   "cell_type": "markdown",
   "metadata": {},
   "source": [
    "## Import Service_Account"
   ]
  },
  {
   "cell_type": "code",
   "execution_count": 48,
   "metadata": {
    "id": "JsBaCtt3jr-6"
   },
   "outputs": [],
   "source": [
    "from oauth2client.service_account import ServiceAccountCredentials"
   ]
  },
  {
   "cell_type": "code",
   "execution_count": 49,
   "metadata": {
    "id": "LNiRjFsljzd8"
   },
   "outputs": [],
   "source": [
    "from oauth2client.service_account import ServiceAccountCredentials\n",
    "scope =[\"https://spreadsheets.google.com/feeds\",'https://www.googleapis.com/auth/spreadsheets',\"https://www.googleapis.com/auth/drive.file\",\"https://www.googleapis.com/auth/drive\"]\n",
    "creds =ServiceAccountCredentials.from_json_keyfile_name(r\"D:\\MASAI SCHOOL\\Unit -3 Python\\Project\\my-project-361806-fa192cdf5d79.json\", scope)\n",
    "client = gspread.authorize(creds)"
   ]
  },
  {
   "cell_type": "markdown",
   "metadata": {},
   "source": [
    "## Import BSE500 Spreadsheet"
   ]
  },
  {
   "cell_type": "code",
   "execution_count": 50,
   "metadata": {
    "id": "b7IxfuvukDu3"
   },
   "outputs": [],
   "source": [
    "spreadsheet = client.open(\"BSE500\")\n",
    "sht1 = client.open_by_url('https://docs.google.com/spreadsheets/d/1-P1grrJ1V5uVu7GQdzifBZL6riedZWGai8npaf33MBo/edit?usp=sharing')"
   ]
  },
  {
   "cell_type": "code",
   "execution_count": 51,
   "metadata": {
    "id": "zUJ9Fx-JnJ4O"
   },
   "outputs": [],
   "source": [
    "worksheet = sht1.worksheet(\"bse500\")"
   ]
  },
  {
   "cell_type": "code",
   "execution_count": 52,
   "metadata": {
    "id": "ILn5nshnnNSc"
   },
   "outputs": [],
   "source": [
    "import pandas as pd"
   ]
  },
  {
   "cell_type": "code",
   "execution_count": 53,
   "metadata": {
    "id": "Vykh1AaXkDsR"
   },
   "outputs": [],
   "source": [
    "BSE = pd.DataFrame(worksheet.get_all_records())"
   ]
  },
  {
   "cell_type": "code",
   "execution_count": 54,
   "metadata": {
    "colab": {
     "base_uri": "https://localhost:8080/",
     "height": 525
    },
    "id": "UoD6d3tJkDp3",
    "outputId": "81ff9460-140e-4409-98d7-6670e8ebd993"
   },
   "outputs": [
    {
     "data": {
      "text/html": [
       "<div>\n",
       "<style scoped>\n",
       "    .dataframe tbody tr th:only-of-type {\n",
       "        vertical-align: middle;\n",
       "    }\n",
       "\n",
       "    .dataframe tbody tr th {\n",
       "        vertical-align: top;\n",
       "    }\n",
       "\n",
       "    .dataframe thead th {\n",
       "        text-align: right;\n",
       "    }\n",
       "</style>\n",
       "<table border=\"1\" class=\"dataframe\">\n",
       "  <thead>\n",
       "    <tr style=\"text-align: right;\">\n",
       "      <th></th>\n",
       "      <th>Company</th>\n",
       "      <th>BSE code</th>\n",
       "      <th>NSE code</th>\n",
       "      <th>ISIN</th>\n",
       "      <th>Sector</th>\n",
       "      <th>Industry</th>\n",
       "      <th>Date</th>\n",
       "      <th>Price</th>\n",
       "      <th>1 day change(%)</th>\n",
       "      <th>52 Week Low</th>\n",
       "      <th>...</th>\n",
       "      <th>EV / EBITDA</th>\n",
       "      <th>Price / Sales</th>\n",
       "      <th>Price / Cash Flow</th>\n",
       "      <th>Earning Per Share</th>\n",
       "      <th>Book Value Per Share</th>\n",
       "      <th>Cash Flow Per Share</th>\n",
       "      <th>Free Cash Flow Per Share</th>\n",
       "      <th>Dividend Per Share</th>\n",
       "      <th>Delta</th>\n",
       "      <th>Risk-Taking</th>\n",
       "    </tr>\n",
       "  </thead>\n",
       "  <tbody>\n",
       "    <tr>\n",
       "      <th>0</th>\n",
       "      <td>Sanofi India Ltd.</td>\n",
       "      <td>500674</td>\n",
       "      <td>SANOFI</td>\n",
       "      <td>INE058A01010</td>\n",
       "      <td>Healthcare</td>\n",
       "      <td>Drugs &amp; Pharma</td>\n",
       "      <td>2022-09-05</td>\n",
       "      <td>6158.70</td>\n",
       "      <td>0.59</td>\n",
       "      <td>6086.30</td>\n",
       "      <td>...</td>\n",
       "      <td>16.68</td>\n",
       "      <td>4.98</td>\n",
       "      <td>25.39</td>\n",
       "      <td>425.09</td>\n",
       "      <td>631.65</td>\n",
       "      <td>242.96</td>\n",
       "      <td>459.22</td>\n",
       "      <td>490.0</td>\n",
       "      <td>0.28</td>\n",
       "      <td>-</td>\n",
       "    </tr>\n",
       "    <tr>\n",
       "      <th>1</th>\n",
       "      <td>Page Industries Ltd.</td>\n",
       "      <td>532827</td>\n",
       "      <td>PAGEIND</td>\n",
       "      <td>INE761H01022</td>\n",
       "      <td>Textiles</td>\n",
       "      <td>Readymade Garments</td>\n",
       "      <td>2022-09-05</td>\n",
       "      <td>49786.20</td>\n",
       "      <td>-0.26</td>\n",
       "      <td>31500.00</td>\n",
       "      <td>...</td>\n",
       "      <td>51.79</td>\n",
       "      <td>11.75</td>\n",
       "      <td>169.84</td>\n",
       "      <td>656.83</td>\n",
       "      <td>1161.63</td>\n",
       "      <td>293.09</td>\n",
       "      <td>191.03</td>\n",
       "      <td>370.0</td>\n",
       "      <td>0.03</td>\n",
       "      <td>Low Risk Taking</td>\n",
       "    </tr>\n",
       "    <tr>\n",
       "      <th>2</th>\n",
       "      <td>Procter &amp; Gamble Hygiene &amp; Health Care Ltd.</td>\n",
       "      <td>500459</td>\n",
       "      <td>PGHH</td>\n",
       "      <td>INE179A01014</td>\n",
       "      <td>Consumer Staples</td>\n",
       "      <td>Household &amp; Personal Products</td>\n",
       "      <td>2022-09-05</td>\n",
       "      <td>14125.65</td>\n",
       "      <td>0.24</td>\n",
       "      <td>12801.00</td>\n",
       "      <td>...</td>\n",
       "      <td>52.71</td>\n",
       "      <td>12.1</td>\n",
       "      <td>53.17</td>\n",
       "      <td>177.37</td>\n",
       "      <td>227.22</td>\n",
       "      <td>265.9</td>\n",
       "      <td>270.47</td>\n",
       "      <td>315.0</td>\n",
       "      <td>0.14</td>\n",
       "      <td>-</td>\n",
       "    </tr>\n",
       "    <tr>\n",
       "      <th>3</th>\n",
       "      <td>Abbott India Ltd.</td>\n",
       "      <td>500488</td>\n",
       "      <td>ABBOTINDIA</td>\n",
       "      <td>INE358A01014</td>\n",
       "      <td>Healthcare</td>\n",
       "      <td>Drugs &amp; Pharma</td>\n",
       "      <td>2022-09-05</td>\n",
       "      <td>18209.00</td>\n",
       "      <td>-1.26</td>\n",
       "      <td>15514.00</td>\n",
       "      <td>...</td>\n",
       "      <td>30.98</td>\n",
       "      <td>7.73</td>\n",
       "      <td>40.84</td>\n",
       "      <td>380.52</td>\n",
       "      <td>1403.0</td>\n",
       "      <td>445.96</td>\n",
       "      <td>446.9</td>\n",
       "      <td>275.0</td>\n",
       "      <td>0.24</td>\n",
       "      <td>Low Risk Taking</td>\n",
       "    </tr>\n",
       "    <tr>\n",
       "      <th>4</th>\n",
       "      <td>Bosch Ltd.</td>\n",
       "      <td>500530</td>\n",
       "      <td>BOSCHLTD</td>\n",
       "      <td>INE323A01026</td>\n",
       "      <td>Automobile</td>\n",
       "      <td>Auto Ancillaries</td>\n",
       "      <td>2022-09-05</td>\n",
       "      <td>17591.10</td>\n",
       "      <td>0.13</td>\n",
       "      <td>12932.45</td>\n",
       "      <td>...</td>\n",
       "      <td>25.04</td>\n",
       "      <td>4.03</td>\n",
       "      <td>192.66</td>\n",
       "      <td>438.11</td>\n",
       "      <td>3734.33</td>\n",
       "      <td>91.29</td>\n",
       "      <td>46.68</td>\n",
       "      <td>210.0</td>\n",
       "      <td>0.09</td>\n",
       "      <td>-</td>\n",
       "    </tr>\n",
       "  </tbody>\n",
       "</table>\n",
       "<p>5 rows × 43 columns</p>\n",
       "</div>"
      ],
      "text/plain": [
       "                                       Company  BSE code    NSE code  \\\n",
       "0                            Sanofi India Ltd.    500674      SANOFI   \n",
       "1                         Page Industries Ltd.    532827     PAGEIND   \n",
       "2  Procter & Gamble Hygiene & Health Care Ltd.    500459        PGHH   \n",
       "3                            Abbott India Ltd.    500488  ABBOTINDIA   \n",
       "4                                   Bosch Ltd.    500530    BOSCHLTD   \n",
       "\n",
       "           ISIN            Sector                       Industry        Date  \\\n",
       "0  INE058A01010        Healthcare                 Drugs & Pharma  2022-09-05   \n",
       "1  INE761H01022          Textiles             Readymade Garments  2022-09-05   \n",
       "2  INE179A01014  Consumer Staples  Household & Personal Products  2022-09-05   \n",
       "3  INE358A01014        Healthcare                 Drugs & Pharma  2022-09-05   \n",
       "4  INE323A01026        Automobile               Auto Ancillaries  2022-09-05   \n",
       "\n",
       "      Price  1 day change(%)  52 Week Low  ...  EV / EBITDA Price / Sales  \\\n",
       "0   6158.70             0.59      6086.30  ...        16.68          4.98   \n",
       "1  49786.20            -0.26     31500.00  ...        51.79         11.75   \n",
       "2  14125.65             0.24     12801.00  ...        52.71          12.1   \n",
       "3  18209.00            -1.26     15514.00  ...        30.98          7.73   \n",
       "4  17591.10             0.13     12932.45  ...        25.04          4.03   \n",
       "\n",
       "  Price / Cash Flow Earning Per Share Book Value Per Share  \\\n",
       "0             25.39            425.09               631.65   \n",
       "1            169.84            656.83              1161.63   \n",
       "2             53.17            177.37               227.22   \n",
       "3             40.84            380.52               1403.0   \n",
       "4            192.66            438.11              3734.33   \n",
       "\n",
       "   Cash Flow Per Share  Free Cash Flow Per Share  Dividend Per Share Delta  \\\n",
       "0               242.96                    459.22               490.0  0.28   \n",
       "1               293.09                    191.03               370.0  0.03   \n",
       "2                265.9                    270.47               315.0  0.14   \n",
       "3               445.96                     446.9               275.0  0.24   \n",
       "4                91.29                     46.68               210.0  0.09   \n",
       "\n",
       "       Risk-Taking  \n",
       "0               -   \n",
       "1  Low Risk Taking  \n",
       "2               -   \n",
       "3  Low Risk Taking  \n",
       "4               -   \n",
       "\n",
       "[5 rows x 43 columns]"
      ]
     },
     "execution_count": 54,
     "metadata": {},
     "output_type": "execute_result"
    }
   ],
   "source": [
    "BSE.head()"
   ]
  },
  {
   "cell_type": "markdown",
   "metadata": {
    "id": "Xpq6YnGoq8as"
   },
   "source": [
    "## Import Income/Expenses Spreadsheet"
   ]
  },
  {
   "cell_type": "code",
   "execution_count": 55,
   "metadata": {
    "id": "mFcOZorEkDnP"
   },
   "outputs": [
    {
     "ename": "SpreadsheetNotFound",
     "evalue": "",
     "output_type": "error",
     "traceback": [
      "\u001b[1;31m---------------------------------------------------------------------------\u001b[0m",
      "\u001b[1;31mStopIteration\u001b[0m                             Traceback (most recent call last)",
      "File \u001b[1;32m~\\anaconda3\\lib\\site-packages\\gspread\\client.py:150\u001b[0m, in \u001b[0;36mClient.open\u001b[1;34m(self, title, folder_id)\u001b[0m\n\u001b[0;32m    149\u001b[0m \u001b[38;5;28;01mtry\u001b[39;00m:\n\u001b[1;32m--> 150\u001b[0m     properties \u001b[38;5;241m=\u001b[39m \u001b[43mfinditem\u001b[49m\u001b[43m(\u001b[49m\n\u001b[0;32m    151\u001b[0m \u001b[43m        \u001b[49m\u001b[38;5;28;43;01mlambda\u001b[39;49;00m\u001b[43m \u001b[49m\u001b[43mx\u001b[49m\u001b[43m:\u001b[49m\u001b[43m \u001b[49m\u001b[43mx\u001b[49m\u001b[43m[\u001b[49m\u001b[38;5;124;43m\"\u001b[39;49m\u001b[38;5;124;43mname\u001b[39;49m\u001b[38;5;124;43m\"\u001b[39;49m\u001b[43m]\u001b[49m\u001b[43m \u001b[49m\u001b[38;5;241;43m==\u001b[39;49m\u001b[43m \u001b[49m\u001b[43mtitle\u001b[49m\u001b[43m,\u001b[49m\n\u001b[0;32m    152\u001b[0m \u001b[43m        \u001b[49m\u001b[38;5;28;43mself\u001b[39;49m\u001b[38;5;241;43m.\u001b[39;49m\u001b[43mlist_spreadsheet_files\u001b[49m\u001b[43m(\u001b[49m\u001b[43mtitle\u001b[49m\u001b[43m,\u001b[49m\u001b[43m \u001b[49m\u001b[43mfolder_id\u001b[49m\u001b[43m)\u001b[49m\u001b[43m,\u001b[49m\n\u001b[0;32m    153\u001b[0m \u001b[43m    \u001b[49m\u001b[43m)\u001b[49m\n\u001b[0;32m    155\u001b[0m     \u001b[38;5;66;03m# Drive uses different terminology\u001b[39;00m\n",
      "File \u001b[1;32m~\\anaconda3\\lib\\site-packages\\gspread\\utils.py:105\u001b[0m, in \u001b[0;36mfinditem\u001b[1;34m(func, seq)\u001b[0m\n\u001b[0;32m    104\u001b[0m \u001b[38;5;124;03m\"\"\"Finds and returns first item in iterable for which func(item) is True.\"\"\"\u001b[39;00m\n\u001b[1;32m--> 105\u001b[0m \u001b[38;5;28;01mreturn\u001b[39;00m \u001b[38;5;28;43mnext\u001b[39;49m\u001b[43m(\u001b[49m\u001b[43mitem\u001b[49m\u001b[43m \u001b[49m\u001b[38;5;28;43;01mfor\u001b[39;49;00m\u001b[43m \u001b[49m\u001b[43mitem\u001b[49m\u001b[43m \u001b[49m\u001b[38;5;129;43;01min\u001b[39;49;00m\u001b[43m \u001b[49m\u001b[43mseq\u001b[49m\u001b[43m \u001b[49m\u001b[38;5;28;43;01mif\u001b[39;49;00m\u001b[43m \u001b[49m\u001b[43mfunc\u001b[49m\u001b[43m(\u001b[49m\u001b[43mitem\u001b[49m\u001b[43m)\u001b[49m\u001b[43m)\u001b[49m\n",
      "\u001b[1;31mStopIteration\u001b[0m: ",
      "\nDuring handling of the above exception, another exception occurred:\n",
      "\u001b[1;31mSpreadsheetNotFound\u001b[0m                       Traceback (most recent call last)",
      "Input \u001b[1;32mIn [55]\u001b[0m, in \u001b[0;36m<cell line: 1>\u001b[1;34m()\u001b[0m\n\u001b[1;32m----> 1\u001b[0m spreadsheet2 \u001b[38;5;241m=\u001b[39m \u001b[43mclient\u001b[49m\u001b[38;5;241;43m.\u001b[39;49m\u001b[43mopen\u001b[49m\u001b[43m(\u001b[49m\u001b[38;5;124;43m\"\u001b[39;49m\u001b[38;5;124;43mIncome_Expense\u001b[39;49m\u001b[38;5;124;43m\"\u001b[39;49m\u001b[43m)\u001b[49m\n\u001b[0;32m      2\u001b[0m sht2\u001b[38;5;241m=\u001b[39mclient\u001b[38;5;241m.\u001b[39mopen_by_url(\u001b[38;5;124m'\u001b[39m\u001b[38;5;124mhttps://docs.google.com/spreadsheets/d/1xx1j-P0Ldlk2pneDUXhTjYNJiLzcGVVv6VCLJ8CPKL0/edit?usp=sharing\u001b[39m\u001b[38;5;124m'\u001b[39m)\n",
      "File \u001b[1;32m~\\anaconda3\\lib\\site-packages\\gspread\\client.py:160\u001b[0m, in \u001b[0;36mClient.open\u001b[1;34m(self, title, folder_id)\u001b[0m\n\u001b[0;32m    158\u001b[0m     \u001b[38;5;28;01mreturn\u001b[39;00m Spreadsheet(\u001b[38;5;28mself\u001b[39m, properties)\n\u001b[0;32m    159\u001b[0m \u001b[38;5;28;01mexcept\u001b[39;00m \u001b[38;5;167;01mStopIteration\u001b[39;00m:\n\u001b[1;32m--> 160\u001b[0m     \u001b[38;5;28;01mraise\u001b[39;00m SpreadsheetNotFound\n",
      "\u001b[1;31mSpreadsheetNotFound\u001b[0m: "
     ]
    }
   ],
   "source": [
    "spreadsheet2 = client.open(\"Income_Expense\")\n",
    "sht2=client.open_by_url('https://docs.google.com/spreadsheets/d/1xx1j-P0Ldlk2pneDUXhTjYNJiLzcGVVv6VCLJ8CPKL0/edit?usp=sharing')"
   ]
  },
  {
   "cell_type": "code",
   "execution_count": null,
   "metadata": {
    "id": "g3ZnSYWvn9nY"
   },
   "outputs": [],
   "source": [
    "worksheet2 = shtt2.worksheet(\"inex\")"
   ]
  },
  {
   "cell_type": "code",
   "execution_count": null,
   "metadata": {
    "id": "He4tLNozoG1j"
   },
   "outputs": [],
   "source": [
    "Income_Ex = pd.DataFrame(worksheet2.get_all_records())"
   ]
  },
  {
   "cell_type": "code",
   "execution_count": null,
   "metadata": {
    "colab": {
     "base_uri": "https://localhost:8080/",
     "height": 206
    },
    "id": "e7v0cVDpoMA3",
    "outputId": "1a46d3bb-fedf-4cfc-8302-d98e23b19e48"
   },
   "outputs": [],
   "source": [
    "Income_Ex.head()"
   ]
  },
  {
   "cell_type": "markdown",
   "metadata": {
    "id": "W1x0d2OUrI2F"
   },
   "source": [
    "## Import Final Report sheet1 shpreadsheet"
   ]
  },
  {
   "cell_type": "code",
   "execution_count": null,
   "metadata": {
    "id": "tbY9pAkDpBBx"
   },
   "outputs": [],
   "source": [
    "spreadsheet3 = client.open(\"Final Report\")\n",
    "sht3=client.open_by_url('https://docs.google.com/spreadsheets/d/1XpDUubwE4a64r3gG0zcOiJaWPFMlwunE5nLjBgtbhM4/edit?usp=sharing')"
   ]
  },
  {
   "cell_type": "code",
   "execution_count": null,
   "metadata": {
    "id": "jaRelPZfpA4b"
   },
   "outputs": [],
   "source": [
    "worksheet3 = sht3.worksheet('Sheet1')"
   ]
  },
  {
   "cell_type": "code",
   "execution_count": null,
   "metadata": {
    "id": "0f0GmCpypoLe"
   },
   "outputs": [],
   "source": [
    "Final_Report_sheet1 = pd.DataFrame(worksheet3.get_all_records())"
   ]
  },
  {
   "cell_type": "code",
   "execution_count": null,
   "metadata": {
    "colab": {
     "base_uri": "https://localhost:8080/",
     "height": 708
    },
    "id": "nt_hDkJoqOZN",
    "outputId": "06ae0da5-7a40-4ad3-c8a4-92b29aeacf5d"
   },
   "outputs": [],
   "source": [
    "Final_Report_sheet1"
   ]
  },
  {
   "cell_type": "markdown",
   "metadata": {
    "id": "QNvdtq0Graut"
   },
   "source": [
    "## Import Final Report Sheet2 spreadsheet"
   ]
  },
  {
   "cell_type": "code",
   "execution_count": null,
   "metadata": {
    "id": "-2V0S8H6rjO_"
   },
   "outputs": [],
   "source": [
    "spreadsheet4 = client.open(\"Final Report\")\n",
    "sht4=client.open_by_url('https://docs.google.com/spreadsheets/d/1XpDUubwE4a64r3gG0zcOiJaWPFMlwunE5nLjBgtbhM4/edit?usp=sharing')"
   ]
  },
  {
   "cell_type": "code",
   "execution_count": null,
   "metadata": {
    "id": "Z6ZkOSLHrmxa"
   },
   "outputs": [],
   "source": [
    "worksheet4 = spreadsheet4.worksheet('Sheet2')"
   ]
  },
  {
   "cell_type": "code",
   "execution_count": null,
   "metadata": {
    "id": "VG1MFFBXrojX"
   },
   "outputs": [],
   "source": [
    "Final_Report_sheet2 = pd.DataFrame(worksheet4.get_all_records())"
   ]
  },
  {
   "cell_type": "code",
   "execution_count": null,
   "metadata": {
    "colab": {
     "base_uri": "https://localhost:8080/",
     "height": 269
    },
    "id": "dmR30Xk3sCQb",
    "outputId": "634d29fa-23e9-46bb-d514-38e2a065676b"
   },
   "outputs": [],
   "source": [
    "Final_Report_sheet2"
   ]
  },
  {
   "cell_type": "code",
   "execution_count": null,
   "metadata": {
    "colab": {
     "base_uri": "https://localhost:8080/"
    },
    "id": "eqNL8e1JzJ4_",
    "outputId": "e48edb2b-717a-4058-fb53-9f54106e2d6f"
   },
   "outputs": [],
   "source": [
    "Income_Ex['Amount'].sum()"
   ]
  },
  {
   "cell_type": "markdown",
   "metadata": {
    "id": "pyEeIUPsPTR0"
   },
   "source": [
    "#  **Subtask - 1:**\n",
    "##  Populate Net Income for the given data in `sheet1` of Gsheet 3"
   ]
  },
  {
   "cell_type": "code",
   "execution_count": null,
   "metadata": {
    "id": "u8AYJrpOL5mA"
   },
   "outputs": [],
   "source": [
    "Income_Ex1 =Income_Ex[Income_Ex['Income/Expense']=='Income']"
   ]
  },
  {
   "cell_type": "code",
   "execution_count": null,
   "metadata": {
    "colab": {
     "base_uri": "https://localhost:8080/"
    },
    "id": "RGAHaginPAge",
    "outputId": "33b1bf74-019c-4bd4-9823-bf00fec37c5c"
   },
   "outputs": [],
   "source": [
    "Income_Ex1['INR'].sum()"
   ]
  },
  {
   "cell_type": "code",
   "execution_count": null,
   "metadata": {
    "colab": {
     "base_uri": "https://localhost:8080/"
    },
    "id": "vSenGVsOWdVO",
    "outputId": "d8e59036-3ef2-42ff-f0e8-0bf472094bc0"
   },
   "outputs": [],
   "source": [
    "worksheet3.update('B2', (Income_Ex1['INR'].sum()))"
   ]
  },
  {
   "cell_type": "code",
   "execution_count": null,
   "metadata": {
    "colab": {
     "base_uri": "https://localhost:8080/",
     "height": 35
    },
    "id": "YhNyKjAgRfDS",
    "outputId": "ede62cb9-adbc-4cd7-d79e-14e3115d33e0"
   },
   "outputs": [],
   "source": [
    "worksheet3.cell(2,2).value"
   ]
  },
  {
   "cell_type": "markdown",
   "metadata": {
    "id": "zhUEPQzCPflD"
   },
   "source": [
    "##  Populate Net Expenses for the given data in `sheet1` of Gsheet 3"
   ]
  },
  {
   "cell_type": "code",
   "execution_count": null,
   "metadata": {
    "id": "XDD8plHHPkjH"
   },
   "outputs": [],
   "source": [
    "Income_Ex2 =Income_Ex[Income_Ex['Income/Expense']=='Expense']"
   ]
  },
  {
   "cell_type": "code",
   "execution_count": null,
   "metadata": {
    "colab": {
     "base_uri": "https://localhost:8080/"
    },
    "id": "MkE8HrCfP_59",
    "outputId": "a9812994-8769-417a-9d90-e65ead45febb"
   },
   "outputs": [],
   "source": [
    "Income_Ex2['INR'].sum()"
   ]
  },
  {
   "cell_type": "code",
   "execution_count": null,
   "metadata": {
    "colab": {
     "base_uri": "https://localhost:8080/"
    },
    "id": "R88oJVHQXrfy",
    "outputId": "abfbbf3e-0fcb-4302-82f7-6a936f1cfcdb"
   },
   "outputs": [],
   "source": [
    "worksheet3.update('B3', (Income_Ex2['INR'].sum()))"
   ]
  },
  {
   "cell_type": "markdown",
   "metadata": {
    "id": "Y-tsyLtbX2ux"
   },
   "source": [
    "## Cost incurred in different categories : Food, Other, Transportation, Social Life, Household, Apparel, Education, Salary, Allowance, Self-development, Beauty, Gift, Petty cash - for the given data in sheet1 of Gsheet 3"
   ]
  },
  {
   "cell_type": "markdown",
   "metadata": {
    "id": "-2y83z0NZPlm"
   },
   "source": [
    "### Category Food"
   ]
  },
  {
   "cell_type": "code",
   "execution_count": null,
   "metadata": {
    "id": "60pT1wbYX6q_"
   },
   "outputs": [],
   "source": [
    "Income_Ex4 =Income_Ex[Income_Ex['Category']=='Food']"
   ]
  },
  {
   "cell_type": "code",
   "execution_count": null,
   "metadata": {
    "colab": {
     "base_uri": "https://localhost:8080/"
    },
    "id": "ZrJ1sDhZYukY",
    "outputId": "62164945-0beb-4235-d1e1-5c2ca8bbb431"
   },
   "outputs": [],
   "source": [
    "Income_Ex4['INR'].sum()"
   ]
  },
  {
   "cell_type": "code",
   "execution_count": null,
   "metadata": {
    "colab": {
     "base_uri": "https://localhost:8080/"
    },
    "id": "2TP5zx0cY3Gf",
    "outputId": "13b6292b-6604-42e4-b1b4-081f8d73eaef"
   },
   "outputs": [],
   "source": [
    "worksheet3.update('B5', (Income_Ex4['INR'].sum()))"
   ]
  },
  {
   "cell_type": "markdown",
   "metadata": {
    "id": "aGKKeMUTZUMP"
   },
   "source": [
    "### Category Other"
   ]
  },
  {
   "cell_type": "code",
   "execution_count": null,
   "metadata": {
    "id": "Ki7vKN86ZYFd"
   },
   "outputs": [],
   "source": [
    "Income_Ex5 =Income_Ex[Income_Ex['Category']=='Other']"
   ]
  },
  {
   "cell_type": "code",
   "execution_count": null,
   "metadata": {
    "colab": {
     "base_uri": "https://localhost:8080/"
    },
    "id": "sn1rw0CeZfPu",
    "outputId": "bc794cc5-87f5-455c-a9c7-05285dddb077"
   },
   "outputs": [],
   "source": [
    "Income_Ex5['INR'].sum()"
   ]
  },
  {
   "cell_type": "code",
   "execution_count": null,
   "metadata": {
    "colab": {
     "base_uri": "https://localhost:8080/"
    },
    "id": "ymXDxZIwZiPq",
    "outputId": "6c4a5d63-12bf-4f3a-8c17-1ddf19507723"
   },
   "outputs": [],
   "source": [
    "worksheet3.update('B6', (Income_Ex5['INR'].sum()))"
   ]
  },
  {
   "cell_type": "markdown",
   "metadata": {
    "id": "uz_KH0ANafEz"
   },
   "source": [
    "### Category Transportation"
   ]
  },
  {
   "cell_type": "code",
   "execution_count": null,
   "metadata": {
    "colab": {
     "base_uri": "https://localhost:8080/"
    },
    "id": "V9WKEZiEaoN2",
    "outputId": "adde2a8e-0306-4c92-fc2d-39374e97fbbf"
   },
   "outputs": [],
   "source": [
    "Income_Ex6 =Income_Ex[Income_Ex['Category']=='Transportation']\n",
    "Income_Ex6['INR'].sum()\n",
    "worksheet3.update('B7', (Income_Ex6['INR'].sum()))"
   ]
  },
  {
   "cell_type": "markdown",
   "metadata": {
    "id": "nDR0tW8UbCBk"
   },
   "source": [
    "### Category Socail Life"
   ]
  },
  {
   "cell_type": "code",
   "execution_count": null,
   "metadata": {
    "colab": {
     "base_uri": "https://localhost:8080/"
    },
    "id": "f-XuR3elbKEY",
    "outputId": "73906ec1-dc01-4ed1-e6f4-4684037ba811"
   },
   "outputs": [],
   "source": [
    "Income_Ex7 =Income_Ex[Income_Ex['Category']=='Social Life']\n",
    "Income_Ex7['INR'].sum()\n",
    "worksheet3.update('B8', (Income_Ex7['INR'].sum()))"
   ]
  },
  {
   "cell_type": "markdown",
   "metadata": {
    "id": "FSAbGu3zbYN5"
   },
   "source": [
    "## Category Household"
   ]
  },
  {
   "cell_type": "code",
   "execution_count": null,
   "metadata": {
    "colab": {
     "base_uri": "https://localhost:8080/"
    },
    "id": "8EfK7fZzbdK4",
    "outputId": "7e6438dc-372f-4281-b66a-c043ab22f19a"
   },
   "outputs": [],
   "source": [
    "Income_Ex8 =Income_Ex[Income_Ex['Category']=='Household']\n",
    "Income_Ex8['INR'].sum()\n",
    "worksheet3.update('B9', (Income_Ex8['INR'].sum()))"
   ]
  },
  {
   "cell_type": "markdown",
   "metadata": {
    "id": "rNp5qJYXb-BN"
   },
   "source": [
    "## Category Apparel\n"
   ]
  },
  {
   "cell_type": "code",
   "execution_count": null,
   "metadata": {
    "colab": {
     "base_uri": "https://localhost:8080/"
    },
    "id": "PWXRZ57FcHIR",
    "outputId": "7e7cb713-09fa-4d8d-9301-a715aa707913"
   },
   "outputs": [],
   "source": [
    "Income_Ex9 =Income_Ex[Income_Ex['Category']=='Apparel']\n",
    "Income_Ex9['INR'].sum()\n",
    "worksheet3.update('B10', (Income_Ex9['INR'].sum()))"
   ]
  },
  {
   "cell_type": "markdown",
   "metadata": {
    "id": "fwJOa3_icT-y"
   },
   "source": [
    "## Category Education"
   ]
  },
  {
   "cell_type": "code",
   "execution_count": null,
   "metadata": {
    "colab": {
     "base_uri": "https://localhost:8080/"
    },
    "id": "5yo7NgBvccYD",
    "outputId": "958e09dd-6cc6-4449-e0d8-6a71923d3287"
   },
   "outputs": [],
   "source": [
    "Income_Ex10 =Income_Ex[Income_Ex['Category']=='Education']\n",
    "Income_Ex10['INR'].sum()\n",
    "worksheet3.update('B11', (Income_Ex10['INR'].sum()))"
   ]
  },
  {
   "cell_type": "markdown",
   "metadata": {
    "id": "XCePwOspclem"
   },
   "source": [
    "## Category Salary"
   ]
  },
  {
   "cell_type": "code",
   "execution_count": null,
   "metadata": {
    "colab": {
     "base_uri": "https://localhost:8080/"
    },
    "id": "aLOBK4wmctIt",
    "outputId": "9f17e1d3-0f83-42ef-c323-60024794174f"
   },
   "outputs": [],
   "source": [
    "Income_Ex11 =Income_Ex[Income_Ex['Category']=='Salary']\n",
    "Income_Ex11['INR'].sum()\n",
    "worksheet3.update('B12', (Income_Ex11['INR'].sum()))"
   ]
  },
  {
   "cell_type": "markdown",
   "metadata": {
    "id": "MfeoTfH3c2cU"
   },
   "source": [
    "## Category Allowance"
   ]
  },
  {
   "cell_type": "code",
   "execution_count": null,
   "metadata": {
    "colab": {
     "base_uri": "https://localhost:8080/"
    },
    "id": "vN_7z_ZCc8OR",
    "outputId": "1302f35c-461b-4a72-e6aa-20e861988615"
   },
   "outputs": [],
   "source": [
    "Income_Ex12 =Income_Ex[Income_Ex['Category']=='Allowance']\n",
    "Income_Ex12['INR'].sum()\n",
    "worksheet3.update('B13', (Income_Ex12['INR'].sum()))"
   ]
  },
  {
   "cell_type": "markdown",
   "metadata": {
    "id": "ElXaw8qFdGLq"
   },
   "source": [
    "## Category Beauty"
   ]
  },
  {
   "cell_type": "code",
   "execution_count": null,
   "metadata": {
    "colab": {
     "base_uri": "https://localhost:8080/"
    },
    "id": "ijPb0u3jdN1K",
    "outputId": "7f3f6f6a-1fac-4c58-86a2-3e16bfd4712d"
   },
   "outputs": [],
   "source": [
    "Income_Ex13 =Income_Ex[Income_Ex['Category']=='Beauty']\n",
    "Income_Ex13['INR'].sum()\n",
    "worksheet3.update('B14', (Income_Ex13['INR'].sum()))"
   ]
  },
  {
   "cell_type": "markdown",
   "metadata": {
    "id": "_kv6DhXmdVTN"
   },
   "source": [
    "## Category Gift"
   ]
  },
  {
   "cell_type": "code",
   "execution_count": null,
   "metadata": {
    "colab": {
     "base_uri": "https://localhost:8080/"
    },
    "id": "wVGSf8yLdbaQ",
    "outputId": "f5f51a68-640c-444d-c174-fdb381ee6638"
   },
   "outputs": [],
   "source": [
    "Income_Ex14 =Income_Ex[Income_Ex['Category']=='Gift']\n",
    "Income_Ex14['INR'].sum()\n",
    "worksheet3.update('B15', (Income_Ex14['INR'].sum()))"
   ]
  },
  {
   "cell_type": "markdown",
   "metadata": {
    "id": "W6avw360dkXC"
   },
   "source": [
    "## Category Petty cash"
   ]
  },
  {
   "cell_type": "code",
   "execution_count": null,
   "metadata": {
    "colab": {
     "base_uri": "https://localhost:8080/"
    },
    "id": "x6eS4lyrdqP1",
    "outputId": "b0b3db94-c877-4e7b-bc04-fbf5a1c4697a"
   },
   "outputs": [],
   "source": [
    "Income_Ex15 =Income_Ex[Income_Ex['Category']=='Petty cash']\n",
    "Income_Ex15['INR'].sum()\n",
    "worksheet3.update('B16', (Income_Ex15['INR'].sum()))"
   ]
  },
  {
   "cell_type": "markdown",
   "metadata": {
    "id": "nmOzcykfd8Pk"
   },
   "source": [
    "## Available for investment = Net Income - Net Expense(this has to be populated through python formula and not excel formula) "
   ]
  },
  {
   "cell_type": "code",
   "execution_count": null,
   "metadata": {
    "id": "M83GR17MfJGG"
   },
   "outputs": [],
   "source": [
    "import numpy as np"
   ]
  },
  {
   "cell_type": "code",
   "execution_count": null,
   "metadata": {
    "colab": {
     "base_uri": "https://localhost:8080/"
    },
    "id": "dc6CHG9uhXkq",
    "outputId": "2dd9cfd3-6892-418d-f948-8fe1d17811a1"
   },
   "outputs": [],
   "source": [
    "Final_Report_sheet1['B'][0]-Final_Report_sheet1['B'][1]"
   ]
  },
  {
   "cell_type": "code",
   "execution_count": null,
   "metadata": {
    "colab": {
     "base_uri": "https://localhost:8080/"
    },
    "id": "1aTtxZ9BiGna",
    "outputId": "01aa3d4b-195f-4aa9-f792-4cefc1817309"
   },
   "outputs": [],
   "source": [
    "worksheet3.update('B19', Final_Report_sheet1['B'][0]-Final_Report_sheet1['B'][1])"
   ]
  },
  {
   "cell_type": "markdown",
   "metadata": {},
   "source": [
    "# Subtask 2"
   ]
  },
  {
   "cell_type": "markdown",
   "metadata": {},
   "source": [
    "## Make a new column in Gsheet 1 named “Delta” and populate it with (52 Week High - price)/(52 week High)"
   ]
  },
  {
   "cell_type": "markdown",
   "metadata": {},
   "source": [
    "### Insert Delta Column"
   ]
  },
  {
   "cell_type": "code",
   "execution_count": null,
   "metadata": {},
   "outputs": [],
   "source": [
    "worksheet.update('AP1','Delta')"
   ]
  },
  {
   "cell_type": "code",
   "execution_count": null,
   "metadata": {},
   "outputs": [],
   "source": [
    "Delta = (BSE['52 Week High']-BSE['Price'])/(BSE['52 Week High'])"
   ]
  },
  {
   "cell_type": "code",
   "execution_count": null,
   "metadata": {},
   "outputs": [],
   "source": [
    "## Make array of Delta Values\n",
    "k = [float(i) for i in Delta.values[0:500]]\n",
    "k = k[0:500]\n",
    "val = [[i] for i in k]\n",
    "val"
   ]
  },
  {
   "cell_type": "code",
   "execution_count": null,
   "metadata": {},
   "outputs": [],
   "source": [
    "## Update Worksheet with Delta Values\n",
    "worksheet.batch_update([{'range':'AP2:AP501',\n",
    "                     'values' : val }])"
   ]
  },
  {
   "cell_type": "markdown",
   "metadata": {},
   "source": [
    "### Distribute in Low, High, Medium,Risk"
   ]
  },
  {
   "cell_type": "code",
   "execution_count": null,
   "metadata": {},
   "outputs": [],
   "source": [
    "A = BSE['Market Cap(Cr)']\n",
    "B = BSE['10-Year Return(%)']"
   ]
  },
  {
   "cell_type": "code",
   "execution_count": null,
   "metadata": {},
   "outputs": [],
   "source": [
    "## Create Column Heading Risk-Taking\n",
    "worksheet.update(\"AQ1\",\"Risk-Taking\")"
   ]
  },
  {
   "cell_type": "code",
   "execution_count": null,
   "metadata": {},
   "outputs": [],
   "source": [
    "## Change Datatype to Numeric\n",
    "BSE['10-Year Return(%)']  = pd.to_numeric(BSE['10-Year Return(%)'] )"
   ]
  },
  {
   "cell_type": "code",
   "execution_count": null,
   "metadata": {},
   "outputs": [],
   "source": [
    "## Categories into High, Low, Moderate, Risk\n",
    "\n",
    "Risk_Taking=[]\n",
    "for i in range(0,501):\n",
    "    if A[i]<2000 and B[i]<=8:\n",
    "        Risk_Taking.append(\"High Risk Taking\")\n",
    "    elif 2000<=A[i]<5000 and 8<B[i]<=15:\n",
    "        Risk_Taking.append(\"Risk Taking\")\n",
    "    elif 5000<=A[i]<15000 and 15<B[i]<=20:\n",
    "        Risk_Taking.append(\"Moderate Risk Taking\")\n",
    "    elif A[i]>=18000 and B[i]>20:\n",
    "        Risk_Taking.append(\"Low Risk Taking\")\n",
    "    else:\n",
    "        Risk_Taking.append(\" - \")"
   ]
  },
  {
   "cell_type": "code",
   "execution_count": null,
   "metadata": {},
   "outputs": [],
   "source": [
    "## Convert to Array\n",
    "l = [str(i) for i in Risk_Taking]\n",
    "l = l[0:501]\n",
    "val1 = [[i] for i in l]\n",
    "val1"
   ]
  },
  {
   "cell_type": "code",
   "execution_count": null,
   "metadata": {},
   "outputs": [],
   "source": [
    "## Update the worksheet \n",
    "worksheet.batch_update([{'range':'AQ2:AQ502', 'values' : val1 }])"
   ]
  },
  {
   "cell_type": "code",
   "execution_count": null,
   "metadata": {},
   "outputs": [],
   "source": [
    "BSE = pd.DataFrame(worksheet.get_all_records())"
   ]
  },
  {
   "cell_type": "markdown",
   "metadata": {},
   "source": [
    "## Top 5 Companies a per given Criteria"
   ]
  },
  {
   "cell_type": "code",
   "execution_count": null,
   "metadata": {
    "scrolled": true
   },
   "outputs": [],
   "source": [
    "## Value Count\n",
    "BSE['Risk-Taking'].value_counts()"
   ]
  },
  {
   "cell_type": "markdown",
   "metadata": {},
   "source": [
    "## Low Risk Taking"
   ]
  },
  {
   "cell_type": "code",
   "execution_count": null,
   "metadata": {},
   "outputs": [],
   "source": [
    "Low = BSE[BSE['Risk-Taking']=='Low Risk Taking']['Company'].head()\n",
    "Low"
   ]
  },
  {
   "cell_type": "code",
   "execution_count": null,
   "metadata": {},
   "outputs": [],
   "source": [
    "## for Low Risk\n",
    "L = [str(i) for i in Low]\n",
    "L = L[0:6]\n",
    "valL = [[i] for i in L]\n",
    "valL"
   ]
  },
  {
   "cell_type": "markdown",
   "metadata": {},
   "source": [
    "## High Risk Taking"
   ]
  },
  {
   "cell_type": "code",
   "execution_count": null,
   "metadata": {},
   "outputs": [],
   "source": [
    "High = BSE[BSE['Risk-Taking']=='High Risk Taking']['Company'].head()\n",
    "High"
   ]
  },
  {
   "cell_type": "code",
   "execution_count": null,
   "metadata": {},
   "outputs": [],
   "source": [
    "## for High Risk\n",
    "h = [str(i) for i in High]\n",
    "h = h[0:6]\n",
    "valh = [[i] for i in h]\n",
    "valh"
   ]
  },
  {
   "cell_type": "markdown",
   "metadata": {},
   "source": [
    "## Moderate Risk Taking"
   ]
  },
  {
   "cell_type": "code",
   "execution_count": null,
   "metadata": {},
   "outputs": [],
   "source": [
    "Moderate = BSE[BSE['Risk-Taking']=='Moderate Risk Taking']['Company'].head()\n",
    "Moderate"
   ]
  },
  {
   "cell_type": "code",
   "execution_count": null,
   "metadata": {},
   "outputs": [],
   "source": [
    "## for Moderate Risk\n",
    "m = [str(i) for i in Moderate]\n",
    "m = m[0:6]\n",
    "valm = [[i] for i in m]\n",
    "valm"
   ]
  },
  {
   "cell_type": "markdown",
   "metadata": {},
   "source": [
    "## Risk Taking"
   ]
  },
  {
   "cell_type": "code",
   "execution_count": null,
   "metadata": {},
   "outputs": [],
   "source": [
    "Risk = BSE[BSE['Risk-Taking']=='Risk Taking']['Company'].head()\n",
    "Risk"
   ]
  },
  {
   "cell_type": "code",
   "execution_count": null,
   "metadata": {},
   "outputs": [],
   "source": [
    "## for Risk only\n",
    "r = [str(i) for i in Risk]\n",
    "r = r[0:6]\n",
    "valr = [[i] for i in r]\n",
    "valr"
   ]
  },
  {
   "cell_type": "code",
   "execution_count": null,
   "metadata": {},
   "outputs": [],
   "source": [
    "## Replace value coloumn to NA if  no is listed in the selected criteria\n",
    "v=['NA','NA','NA','NA','NA']\n",
    "w = [str(i) for i in v]\n",
    "w= v[0:6]\n",
    "valv = [[i] for i in w]\n",
    "valv"
   ]
  },
  {
   "cell_type": "code",
   "execution_count": null,
   "metadata": {},
   "outputs": [],
   "source": [
    "## Update the worksheet with Selected Dropdown List\n",
    "worksheet4.batch_update([{'range':'B2:B6', 'values' : valv}])\n",
    "if (worksheet3.cell(22,2).value == 'Low Risk Taking'):\n",
    "    worksheet4.batch_update([{'range':'B2:B6', 'values' : valL }])\n",
    "    l1=len(Low)\n",
    "elif (worksheet3.cell(22,2).value == 'High Risk Taking'):\n",
    "    worksheet4.batch_update([{'range':'B2:B6',\n",
    "                     'values' : valh }])\n",
    "    l1=len(High)\n",
    "elif (worksheet3.cell(22,2).value == 'Moderate Risk Taking'):\n",
    "    worksheet4.batch_update([{'range':'B2:B6',\n",
    "                     'values' : valm }])\n",
    "    l1=len(Moderate)\n",
    "elif (worksheet3.cell(22,2).value == 'Risk Taking'):\n",
    "    worksheet4.batch_update([{'range':'B2:B6',\n",
    "                     'values' : valr }])\n",
    "    l1=len(Risk)"
   ]
  },
  {
   "cell_type": "markdown",
   "metadata": {},
   "source": [
    "## Contribute Available Amount with the top 5 companies Equally"
   ]
  },
  {
   "cell_type": "code",
   "execution_count": null,
   "metadata": {},
   "outputs": [],
   "source": [
    "##  Checling the count of element for each criteria w.r.t top 5\n",
    "if 0<l1<=5:\n",
    "    X = Final_Report_sheet1['B'][17]/l1\n",
    "elif l1>5:\n",
    "    X = Final_Report_sheet1['B'][17]/5\n",
    "else:\n",
    "    X=0"
   ]
  },
  {
   "cell_type": "code",
   "execution_count": null,
   "metadata": {},
   "outputs": [],
   "source": [
    "## Replace value coloumn to NA if  no is listed in the selected criteria\n",
    "p=['NA','NA','NA','NA','NA']\n",
    "u = [i for i in p]\n",
    "u= u[0:6]\n",
    "valu = [i for i in u]\n",
    "valu"
   ]
  },
  {
   "cell_type": "code",
   "execution_count": null,
   "metadata": {},
   "outputs": [],
   "source": [
    "## Checking equal amount to invest coloumn w.r.t no.of.companies\n",
    "if 0<l1<=5:\n",
    "    Available = np.ones(l1,dtype=int)*int(X)\n",
    "elif l1>5:\n",
    "    Available = np.ones(5,dtype=int)*int(X)\n",
    "else:\n",
    "    Available=valu"
   ]
  },
  {
   "cell_type": "code",
   "execution_count": null,
   "metadata": {},
   "outputs": [],
   "source": [
    "## disteibute equal amount to invest coloumn w.r.t no.of.companies\n",
    "Z = [str(i) for i in Available]\n",
    "Z = Z[0:6]\n",
    "valZ = [[i] for i in Z]\n",
    "valZ"
   ]
  },
  {
   "cell_type": "code",
   "execution_count": null,
   "metadata": {},
   "outputs": [],
   "source": [
    "## update worksheet with invest amount\n",
    "worksheet4.batch_update([{'range':'C2:C6','values':valZ}])"
   ]
  }
 ],
 "metadata": {
  "colab": {
   "provenance": []
  },
  "kernelspec": {
   "display_name": "Python 3 (ipykernel)",
   "language": "python",
   "name": "python3"
  },
  "language_info": {
   "codemirror_mode": {
    "name": "ipython",
    "version": 3
   },
   "file_extension": ".py",
   "mimetype": "text/x-python",
   "name": "python",
   "nbconvert_exporter": "python",
   "pygments_lexer": "ipython3",
   "version": "3.9.12"
  }
 },
 "nbformat": 4,
 "nbformat_minor": 1
}
